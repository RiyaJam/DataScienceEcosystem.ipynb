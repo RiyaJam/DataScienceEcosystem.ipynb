{
  "metadata": {
    "kernelspec": {
      "name": "python",
      "display_name": "Python (Pyodide)",
      "language": "python"
    },
    "language_info": {
      "codemirror_mode": {
        "name": "python",
        "version": 3
      },
      "file_extension": ".py",
      "mimetype": "text/x-python",
      "name": "python",
      "nbconvert_exporter": "python",
      "pygments_lexer": "ipython3",
      "version": "3.8"
    }
  },
  "nbformat_minor": 4,
  "nbformat": 4,
  "cells": [
    {
      "cell_type": "markdown",
      "source": "#H1 Data science tools and ecosystem\nIn this notebook, Data Science Tools and Ecosystem are summarized.\nSome of the popular Langugages used by Data Scienists are\nordered list\n",
      "metadata": {}
    },
    {
      "cell_type": "markdown",
      "source": "1 Python\n2 SQL\n3 Rstudio\n4 Java\n5 Scala\n",
      "metadata": {}
    },
    {
      "cell_type": "code",
      "source": "#Some of the commonly used libraries used by Data Scientists include:\n1 NumPy. \n2 Matplotlib. \n3 Pandas\n4 SciPy. \n5 PyTorch. \n6 Seaborn.\n7 Machine learning.\n8 Automated machine learning (AutoML)",
      "metadata": {
        "trusted": true
      },
      "outputs": [],
      "execution_count": null
    },
    {
      "cell_type": "markdown",
      "source": "#\n| Data Science Tools | \n| Jupyter Notebook |\n| RSTudio |\n| Apache Hadoop |\n",
      "metadata": {}
    },
    {
      "cell_type": "code",
      "source": "# h3 Below are a few examples of evaluating arithmetic expressions in Python\n#This is a simple arithmetic expression to mutiply then add integers\n(3*4)+5",
      "metadata": {
        "trusted": true
      },
      "outputs": [
        {
          "execution_count": 8,
          "output_type": "execute_result",
          "data": {
            "text/plain": "17"
          },
          "metadata": {}
        }
      ],
      "execution_count": 8
    },
    {
      "cell_type": "code",
      "source": "#This will convert 200 minutes to hours by diving by 60\n200/60",
      "metadata": {
        "trusted": true
      },
      "outputs": [
        {
          "execution_count": 9,
          "output_type": "execute_result",
          "data": {
            "text/plain": "3.3333333333333335"
          },
          "metadata": {}
        }
      ],
      "execution_count": 9
    },
    {
      "cell_type": "markdown",
      "source": "#B OBJECTIVES \nList popular languages for Data Science\n. Python\n. Mathlab\n. R\n. Scala\n. SQL",
      "metadata": {}
    },
    {
      "cell_type": "code",
      "source": "# H2 AUTHOR\nRIYA",
      "metadata": {
        "trusted": true
      },
      "outputs": [],
      "execution_count": null
    }
  ]
}